{
 "cells": [
  {
   "cell_type": "markdown",
   "metadata": {},
   "source": [
    "# Async IO from Ground Up"
   ]
  },
  {
   "cell_type": "markdown",
   "metadata": {},
   "source": [
    "Understanding Python async features from the first principles."
   ]
  },
  {
   "cell_type": "markdown",
   "metadata": {},
   "source": [
    "## What is Async"
   ]
  },
  {
   "cell_type": "markdown",
   "metadata": {},
   "source": [
    "Lets compare synchronous and asyncronous styles."
   ]
  },
  {
   "cell_type": "markdown",
   "metadata": {},
   "source": [
    "### Synchronous - blocking\n",
    "\n",
    "[cartoon will come here]\n",
    "\n",
    "- X visits Bangalore Iyengar Bakery\n",
    "- Orders a veg puff\n",
    "- waits until it is ready\n",
    "- takes it and walks away"
   ]
  },
  {
   "cell_type": "markdown",
   "metadata": {},
   "source": [
    "### Asynchronous - callback\n",
    "\n",
    "[Cartoon will come here]\n",
    "\n",
    "- X visits Starbucks\n",
    "- Orders black coffee\n",
    "- Sits and reads about asyncio\n",
    "- The bartista calls his name and gives his coffee"
   ]
  },
  {
   "cell_type": "markdown",
   "metadata": {},
   "source": [
    "### Async - callback style programming\n",
    "\n",
    "```javascript\n",
    "// node.js application to download a URL\n",
    "var http = require('http');\n",
    "\n",
    "function wget(url, callback) {\n",
    "    http.get(url, function (response) {\n",
    "        var data = '';\n",
    "        response.setEncoding('utf8');\n",
    "        \n",
    "        response.on('data', function(chunk) {\n",
    "            data += chunk;\n",
    "        }).on('end', function() {\n",
    "            callback(data);\n",
    "        });\n",
    "    });\n",
    "}\n",
    "```    "
   ]
  },
  {
   "cell_type": "markdown",
   "metadata": {},
   "source": [
    "### Async - python"
   ]
  },
  {
   "cell_type": "code",
   "execution_count": 1,
   "metadata": {
    "collapsed": true
   },
   "outputs": [],
   "source": [
    "import asyncio\n",
    "import aiohttp\n",
    "\n",
    "@asyncio.coroutine\n",
    "def wget(url):\n",
    "    with aiohttp.ClientSession() as client:\n",
    "        response = yield from client.get(url)\n",
    "        data = yield from response.text()\n",
    "        return data"
   ]
  },
  {
   "cell_type": "markdown",
   "metadata": {},
   "source": [
    "Python generators makes it possible to write asynchronous programs without having to deal with the complexity of callbacks."
   ]
  },
  {
   "cell_type": "markdown",
   "metadata": {},
   "source": [
    "Python 2.5 added a two new constructs `async` and `await` to make it even simpler to write async code."
   ]
  },
  {
   "cell_type": "code",
   "execution_count": 2,
   "metadata": {
    "collapsed": true
   },
   "outputs": [],
   "source": [
    "async def wget(url):\n",
    "    with aiohttp.ClientSession() as client:\n",
    "        response = await client.get(url)\n",
    "        data = await response.text()\n",
    "        return data"
   ]
  },
  {
   "cell_type": "markdown",
   "metadata": {},
   "source": [
    "## How does this work? "
   ]
  },
  {
   "cell_type": "markdown",
   "metadata": {},
   "source": [
    "Lets start from the beginning."
   ]
  },
  {
   "cell_type": "markdown",
   "metadata": {},
   "source": [
    "* Generators\n",
    "* Coroutines\n",
    "* Event loops\n",
    "* `async` and `await`"
   ]
  },
  {
   "cell_type": "markdown",
   "metadata": {},
   "source": [
    "## Generators"
   ]
  },
  {
   "cell_type": "markdown",
   "metadata": {},
   "source": [
    "## Coroutines"
   ]
  },
  {
   "cell_type": "markdown",
   "metadata": {},
   "source": [
    "We've seen that generators are good at modelling various kinds of data flow, but it is also possible to use generators to deal with control flow."
   ]
  },
  {
   "cell_type": "markdown",
   "metadata": {},
   "source": [
    "Lets try an experiment to run multiple generators concurrently."
   ]
  },
  {
   "cell_type": "code",
   "execution_count": 3,
   "metadata": {
    "collapsed": true
   },
   "outputs": [],
   "source": [
    "def interweave(generators):\n",
    "    while True:\n",
    "        for g in generators:\n",
    "            yield next(g)\n",
    "\n",
    "def run_all(generators):\n",
    "    for x in interweave(generators):\n",
    "        pass"
   ]
  },
  {
   "cell_type": "code",
   "execution_count": 4,
   "metadata": {
    "collapsed": true
   },
   "outputs": [],
   "source": [
    "def squares(numbers):\n",
    "    for n in numbers:\n",
    "        print(\"Computing square of\", n)\n",
    "        yield n*n"
   ]
  },
  {
   "cell_type": "code",
   "execution_count": 5,
   "metadata": {
    "collapsed": true
   },
   "outputs": [],
   "source": [
    "g1 = squares([1, 2, 3, 4])\n",
    "g2 = squares([10, 20, 30, 40])"
   ]
  },
  {
   "cell_type": "code",
   "execution_count": 6,
   "metadata": {
    "collapsed": false
   },
   "outputs": [
    {
     "name": "stdout",
     "output_type": "stream",
     "text": [
      "Computing square of 1\n",
      "Computing square of 10\n",
      "Computing square of 2\n",
      "Computing square of 20\n",
      "Computing square of 3\n",
      "Computing square of 30\n",
      "Computing square of 4\n",
      "Computing square of 40\n"
     ]
    }
   ],
   "source": [
    "run_all([g1, g2])"
   ]
  },
  {
   "cell_type": "markdown",
   "metadata": {},
   "source": [
    "This implementation of `interweave` is very primitive. It expects all the generators to be of same length. That is not hard to fix."
   ]
  },
  {
   "cell_type": "code",
   "execution_count": 9,
   "metadata": {
    "collapsed": true
   },
   "outputs": [],
   "source": [
    "from collections import deque\n",
    "\n",
    "def interweave(generators):\n",
    "    # create a queue of generators\n",
    "    generators = deque(generators)\n",
    "    while generators:\n",
    "        # pop and progress the left most one.\n",
    "        g = generators.popleft()\n",
    "        try:\n",
    "            yield next(g)\n",
    "        except StopIteration:\n",
    "            pass\n",
    "        else:\n",
    "            # if it has more elements, enqueue it again.\n",
    "            generators.append(g)"
   ]
  },
  {
   "cell_type": "code",
   "execution_count": 10,
   "metadata": {
    "collapsed": false
   },
   "outputs": [
    {
     "name": "stdout",
     "output_type": "stream",
     "text": [
      "Computing square of 1\n",
      "Computing square of 10\n",
      "Computing square of 2\n",
      "Computing square of 20\n",
      "Computing square of 3\n",
      "Computing square of 30\n",
      "Computing square of 4\n",
      "Computing square of 40\n",
      "Computing square of 5\n",
      "Computing square of 6\n"
     ]
    }
   ],
   "source": [
    "g1 = squares([1, 2, 3, 4, 5, 6])\n",
    "g2 = squares([10, 20, 30, 40])\n",
    "run_all([g1, g2])"
   ]
  },
  {
   "cell_type": "code",
   "execution_count": 13,
   "metadata": {
    "collapsed": true
   },
   "outputs": [],
   "source": [
    "def square(x):\n",
    "    yield\n",
    "    print(\"Computing square of \", x)\n",
    "    return x*x\n",
    "\n",
    "def sum_of_squares(numbers):\n",
    "    result = 0\n",
    "    for n in numbers:\n",
    "        n2 = yield from square(n)\n",
    "        result += n2\n",
    "    yield\n",
    "    print(\"sum_of_squares\", numbers, result)\n",
    "    return result"
   ]
  },
  {
   "cell_type": "code",
   "execution_count": 14,
   "metadata": {
    "collapsed": false
   },
   "outputs": [
    {
     "name": "stdout",
     "output_type": "stream",
     "text": [
      "Computing square of  1\n",
      "Computing square of  10\n",
      "Computing square of  2\n",
      "Computing square of  20\n",
      "Computing square of  3\n",
      "Computing square of  30\n",
      "Computing square of  4\n",
      "Computing square of  40\n",
      "Computing square of  5\n",
      "Computing square of  50\n",
      "sum_of_squares [1, 2, 3, 4, 5] 55\n",
      "sum_of_squares [10, 20, 30, 40, 50] 5500\n"
     ]
    }
   ],
   "source": [
    "g1 = sum_of_squares([1, 2, 3, 4, 5])\n",
    "g2 = sum_of_squares([10, 20, 30, 40, 50])\n",
    "run_all([g1, g2])"
   ]
  },
  {
   "cell_type": "code",
   "execution_count": null,
   "metadata": {
    "collapsed": true
   },
   "outputs": [],
   "source": []
  },
  {
   "cell_type": "code",
   "execution_count": null,
   "metadata": {
    "collapsed": true
   },
   "outputs": [],
   "source": []
  },
  {
   "cell_type": "code",
   "execution_count": null,
   "metadata": {
    "collapsed": true
   },
   "outputs": [],
   "source": []
  }
 ],
 "metadata": {
  "kernelspec": {
   "display_name": "Python 3",
   "language": "python",
   "name": "python3"
  },
  "language_info": {
   "codemirror_mode": {
    "name": "ipython",
    "version": 3
   },
   "file_extension": ".py",
   "mimetype": "text/x-python",
   "name": "python",
   "nbconvert_exporter": "python",
   "pygments_lexer": "ipython3",
   "version": "3.5.1+"
  }
 },
 "nbformat": 4,
 "nbformat_minor": 0
}
